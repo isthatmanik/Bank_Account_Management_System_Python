{
 "cells": [
  {
   "cell_type": "markdown",
   "id": "aa7deb49-b0f9-4d20-a867-533e1d5f4f49",
   "metadata": {},
   "source": [
    "Bank Account Management System"
   ]
  },
  {
   "cell_type": "code",
   "execution_count": 5,
   "id": "86a20400-34f4-47ba-b965-b7e1c739daf1",
   "metadata": {},
   "outputs": [
    {
     "name": "stdout",
     "output_type": "stream",
     "text": [
      "**************************************************\n",
      "              Welcome to WsCube Bank              \n",
      "**************************************************\n",
      "\n",
      "Menu Options: \n",
      "-------------\n",
      "\n",
      "    Press 1 for Opening an Account\n",
      "    Press 2 to View Account Details\n",
      "    Press 3 to withdraw/deposit/transfer\n",
      "    Press 4 to view transaction history\n",
      "    Press 5 to exit the program\n",
      "    \n",
      "--------------------------------------------------\n"
     ]
    },
    {
     "name": "stdin",
     "output_type": "stream",
     "text": [
      "Enter your choice between 1-5:  6\n"
     ]
    },
    {
     "name": "stdout",
     "output_type": "stream",
     "text": [
      "Invalid input. Please enter a number between 1 and 5.\n",
      "\n",
      "Menu Options: \n",
      "-------------\n",
      "\n",
      "    Press 1 for Opening an Account\n",
      "    Press 2 to View Account Details\n",
      "    Press 3 to withdraw/deposit/transfer\n",
      "    Press 4 to view transaction history\n",
      "    Press 5 to exit the program\n",
      "    \n",
      "--------------------------------------------------\n"
     ]
    },
    {
     "name": "stdin",
     "output_type": "stream",
     "text": [
      "Enter your choice between 1-5:  1\n"
     ]
    },
    {
     "name": "stdout",
     "output_type": "stream",
     "text": [
      "--------------------------------------------------\n"
     ]
    },
    {
     "name": "stdin",
     "output_type": "stream",
     "text": [
      "Enter Your Pancard Number    :  ABC1234\n",
      "Enter your name here         :  Manik Gupta\n",
      "Account Type (Savings/Credit):  Savings\n",
      "Enter initial deposit        :  7000\n"
     ]
    },
    {
     "name": "stdout",
     "output_type": "stream",
     "text": [
      "--------------------------------------------------\n",
      "Account Created Successfully!\n",
      "********************************\n",
      "Account No     : 98765432105016\n",
      "Pin Number     : 432258\n",
      "Name           : Manik Gupta\n",
      "Account Type   : Savings\n",
      "Initial Balance: 7000.0\n",
      "********************************\n",
      "\n",
      "Menu Options: \n",
      "-------------\n",
      "\n",
      "    Press 1 for Opening an Account\n",
      "    Press 2 to View Account Details\n",
      "    Press 3 to withdraw/deposit/transfer\n",
      "    Press 4 to view transaction history\n",
      "    Press 5 to exit the program\n",
      "    \n",
      "--------------------------------------------------\n"
     ]
    },
    {
     "name": "stdin",
     "output_type": "stream",
     "text": [
      "Enter your choice between 1-5:  2\n"
     ]
    },
    {
     "name": "stdout",
     "output_type": "stream",
     "text": [
      "--------------------------------------------------\n"
     ]
    },
    {
     "name": "stdin",
     "output_type": "stream",
     "text": [
      "Enter Account Number   :  98765432105016\n",
      "Enter your 6-Digit Pin :  432258\n"
     ]
    },
    {
     "name": "stdout",
     "output_type": "stream",
     "text": [
      "**************************************************\n",
      "                 Account Details                  \n",
      "**************************************************\n",
      "Account Holder's Name:  Manik Gupta\n",
      "Account Type         :  Savings\n",
      "Account Number       :  98765432105016\n",
      "Account Balance      :  7000.0\n",
      "**************************************************\n",
      "\n",
      "Menu Options: \n",
      "-------------\n",
      "\n",
      "    Press 1 for Opening an Account\n",
      "    Press 2 to View Account Details\n",
      "    Press 3 to withdraw/deposit/transfer\n",
      "    Press 4 to view transaction history\n",
      "    Press 5 to exit the program\n",
      "    \n",
      "--------------------------------------------------\n"
     ]
    },
    {
     "name": "stdin",
     "output_type": "stream",
     "text": [
      "Enter your choice between 1-5:  3\n"
     ]
    },
    {
     "name": "stdout",
     "output_type": "stream",
     "text": [
      "--------------------------------------------------\n",
      "          Withdraw - Deposit - Transfer           \n",
      "**************************************************\n",
      "\n",
      "        Press 1 to withdraw\n",
      "        Press 2 to deposit\n",
      "        Press 3 to transfer\n",
      "        \n",
      "--------------------------------------------------\n"
     ]
    },
    {
     "name": "stdin",
     "output_type": "stream",
     "text": [
      "Enter your choice between 1-3:  4\n"
     ]
    },
    {
     "name": "stdout",
     "output_type": "stream",
     "text": [
      "Enter a valid option.\n",
      "\n",
      "Menu Options: \n",
      "-------------\n",
      "\n",
      "    Press 1 for Opening an Account\n",
      "    Press 2 to View Account Details\n",
      "    Press 3 to withdraw/deposit/transfer\n",
      "    Press 4 to view transaction history\n",
      "    Press 5 to exit the program\n",
      "    \n",
      "--------------------------------------------------\n"
     ]
    },
    {
     "name": "stdin",
     "output_type": "stream",
     "text": [
      "Enter your choice between 1-5:  3\n"
     ]
    },
    {
     "name": "stdout",
     "output_type": "stream",
     "text": [
      "--------------------------------------------------\n",
      "          Withdraw - Deposit - Transfer           \n",
      "**************************************************\n",
      "\n",
      "        Press 1 to withdraw\n",
      "        Press 2 to deposit\n",
      "        Press 3 to transfer\n",
      "        \n",
      "--------------------------------------------------\n"
     ]
    },
    {
     "name": "stdin",
     "output_type": "stream",
     "text": [
      "Enter your choice between 1-3:  1\n"
     ]
    },
    {
     "name": "stdout",
     "output_type": "stream",
     "text": [
      "--------------------------------------------------\n"
     ]
    },
    {
     "name": "stdin",
     "output_type": "stream",
     "text": [
      "Enter Account Number              :  98765432105016\n",
      "Enter your 6-Digit Pin            :  432258\n",
      "Enter amount you wish to withdraw :  500\n"
     ]
    },
    {
     "name": "stdout",
     "output_type": "stream",
     "text": [
      "--------------------------------------------------\n",
      "Withdrawal Successful! Remaining Balance: 6500.0\n",
      "--------------------------------------------------\n",
      "Transaction Details:\n",
      "---------------------------------\n",
      "Date & Time : 2025-01-17 18:48:32\n",
      "Amount      : 500.0\n",
      "Status      : Debited\n",
      "Balance     : 6500.0\n",
      "\n",
      "Menu Options: \n",
      "-------------\n",
      "\n",
      "    Press 1 for Opening an Account\n",
      "    Press 2 to View Account Details\n",
      "    Press 3 to withdraw/deposit/transfer\n",
      "    Press 4 to view transaction history\n",
      "    Press 5 to exit the program\n",
      "    \n",
      "--------------------------------------------------\n"
     ]
    },
    {
     "name": "stdin",
     "output_type": "stream",
     "text": [
      "Enter your choice between 1-5:  3\n"
     ]
    },
    {
     "name": "stdout",
     "output_type": "stream",
     "text": [
      "--------------------------------------------------\n",
      "          Withdraw - Deposit - Transfer           \n",
      "**************************************************\n",
      "\n",
      "        Press 1 to withdraw\n",
      "        Press 2 to deposit\n",
      "        Press 3 to transfer\n",
      "        \n",
      "--------------------------------------------------\n"
     ]
    },
    {
     "name": "stdin",
     "output_type": "stream",
     "text": [
      "Enter your choice between 1-3:  2\n"
     ]
    },
    {
     "name": "stdout",
     "output_type": "stream",
     "text": [
      "--------------------------------------------------\n"
     ]
    },
    {
     "name": "stdin",
     "output_type": "stream",
     "text": [
      "Enter Account Number              :  98765432105016\n",
      "Enter your 6-Digit Pin            :  432258\n",
      "Enter amount you wish to deposit  :  1500\n"
     ]
    },
    {
     "name": "stdout",
     "output_type": "stream",
     "text": [
      "--------------------------------------------------\n",
      "Deposit Successful! New Balance: 8000.0\n",
      "--------------------------------------------------\n",
      "Transaction Details:\n",
      "---------------------------------\n",
      "Date & Time : 2025-01-17 18:49:25\n",
      "Amount      : 1500.0\n",
      "Status      : Credited\n",
      "Balance     : 8000.0\n",
      "\n",
      "Menu Options: \n",
      "-------------\n",
      "\n",
      "    Press 1 for Opening an Account\n",
      "    Press 2 to View Account Details\n",
      "    Press 3 to withdraw/deposit/transfer\n",
      "    Press 4 to view transaction history\n",
      "    Press 5 to exit the program\n",
      "    \n",
      "--------------------------------------------------\n"
     ]
    },
    {
     "name": "stdin",
     "output_type": "stream",
     "text": [
      "Enter your choice between 1-5:  3\n"
     ]
    },
    {
     "name": "stdout",
     "output_type": "stream",
     "text": [
      "--------------------------------------------------\n",
      "          Withdraw - Deposit - Transfer           \n",
      "**************************************************\n",
      "\n",
      "        Press 1 to withdraw\n",
      "        Press 2 to deposit\n",
      "        Press 3 to transfer\n",
      "        \n",
      "--------------------------------------------------\n"
     ]
    },
    {
     "name": "stdin",
     "output_type": "stream",
     "text": [
      "Enter your choice between 1-3:  3\n"
     ]
    },
    {
     "name": "stdout",
     "output_type": "stream",
     "text": [
      "--------------------------------------------------\n"
     ]
    },
    {
     "name": "stdin",
     "output_type": "stream",
     "text": [
      "Enter Your Account Number          :  98765432105016\n",
      "Enter Your 6-Digit Pin             :  432258\n",
      "Enter Recipient's Account Number  :  5466516165489\n",
      "Enter amount you wish to transfer :  2000\n"
     ]
    },
    {
     "name": "stdout",
     "output_type": "stream",
     "text": [
      "Recipient's Account Number not found.\n",
      "\n",
      "Menu Options: \n",
      "-------------\n",
      "\n",
      "    Press 1 for Opening an Account\n",
      "    Press 2 to View Account Details\n",
      "    Press 3 to withdraw/deposit/transfer\n",
      "    Press 4 to view transaction history\n",
      "    Press 5 to exit the program\n",
      "    \n",
      "--------------------------------------------------\n"
     ]
    },
    {
     "name": "stdin",
     "output_type": "stream",
     "text": [
      "Enter your choice between 1-5:  1\n"
     ]
    },
    {
     "name": "stdout",
     "output_type": "stream",
     "text": [
      "--------------------------------------------------\n"
     ]
    },
    {
     "name": "stdin",
     "output_type": "stream",
     "text": [
      "Enter Your Pancard Number    :  XYZ6789\n",
      "Enter your name here         :  Juhi Gupta\n",
      "Account Type (Savings/Credit):  Savings\n",
      "Enter initial deposit        :  8000\n"
     ]
    },
    {
     "name": "stdout",
     "output_type": "stream",
     "text": [
      "--------------------------------------------------\n",
      "Account Created Successfully!\n",
      "********************************\n",
      "Account No     : 98765432101446\n",
      "Pin Number     : 148543\n",
      "Name           : Juhi Gupta\n",
      "Account Type   : Savings\n",
      "Initial Balance: 8000.0\n",
      "********************************\n",
      "\n",
      "Menu Options: \n",
      "-------------\n",
      "\n",
      "    Press 1 for Opening an Account\n",
      "    Press 2 to View Account Details\n",
      "    Press 3 to withdraw/deposit/transfer\n",
      "    Press 4 to view transaction history\n",
      "    Press 5 to exit the program\n",
      "    \n",
      "--------------------------------------------------\n"
     ]
    },
    {
     "name": "stdin",
     "output_type": "stream",
     "text": [
      "Enter your choice between 1-5:  3\n"
     ]
    },
    {
     "name": "stdout",
     "output_type": "stream",
     "text": [
      "--------------------------------------------------\n",
      "          Withdraw - Deposit - Transfer           \n",
      "**************************************************\n",
      "\n",
      "        Press 1 to withdraw\n",
      "        Press 2 to deposit\n",
      "        Press 3 to transfer\n",
      "        \n",
      "--------------------------------------------------\n"
     ]
    },
    {
     "name": "stdin",
     "output_type": "stream",
     "text": [
      "Enter your choice between 1-3:  3\n"
     ]
    },
    {
     "name": "stdout",
     "output_type": "stream",
     "text": [
      "--------------------------------------------------\n"
     ]
    },
    {
     "name": "stdin",
     "output_type": "stream",
     "text": [
      "Enter Your Account Number          :  98765432105016\n",
      "Enter Your 6-Digit Pin             :  432258\n",
      "Enter Recipient's Account Number  :  98765432101446\n",
      "Enter amount you wish to transfer :  1000\n"
     ]
    },
    {
     "name": "stdout",
     "output_type": "stream",
     "text": [
      "--------------------------------------------------\n",
      "Transfer Successful! New Balance: 7000.0\n",
      "--------------------------------------------------\n",
      "Transaction Details (Sender):\n",
      "---------------------------------\n",
      "Date & Time : 2025-01-17 18:51:57\n",
      "Transfer To : 98765432101446\n",
      "Amount      : 1000.0\n",
      "Status      : Transfer/Debited\n",
      "Balance     : 7000.0\n",
      "\n",
      "Menu Options: \n",
      "-------------\n",
      "\n",
      "    Press 1 for Opening an Account\n",
      "    Press 2 to View Account Details\n",
      "    Press 3 to withdraw/deposit/transfer\n",
      "    Press 4 to view transaction history\n",
      "    Press 5 to exit the program\n",
      "    \n",
      "--------------------------------------------------\n"
     ]
    },
    {
     "name": "stdin",
     "output_type": "stream",
     "text": [
      "Enter your choice between 1-5:  4\n"
     ]
    },
    {
     "name": "stdout",
     "output_type": "stream",
     "text": [
      "--------------------------------------------------\n"
     ]
    },
    {
     "name": "stdin",
     "output_type": "stream",
     "text": [
      "Enter Account Number   :  98765432105016\n",
      "Enter your 6-Digit Pin :  432258\n"
     ]
    },
    {
     "name": "stdout",
     "output_type": "stream",
     "text": [
      "----------------------------------------------------------------\n",
      "                      Transactions History                      \n",
      "----------------------------------------------------------------\n",
      "Date & Time            Amount       Type                Balance     \n",
      "----------------------------------------------------------------\n",
      "2025-01-17 18:48:32    500.0        Debited             6500.0      \n",
      "2025-01-17 18:49:25    1500.0       Credited            8000.0      \n",
      "2025-01-17 18:51:57    1000.0       Transfer/Debited    7000.0      \n",
      "\n",
      "Menu Options: \n",
      "-------------\n",
      "\n",
      "    Press 1 for Opening an Account\n",
      "    Press 2 to View Account Details\n",
      "    Press 3 to withdraw/deposit/transfer\n",
      "    Press 4 to view transaction history\n",
      "    Press 5 to exit the program\n",
      "    \n",
      "--------------------------------------------------\n"
     ]
    },
    {
     "name": "stdin",
     "output_type": "stream",
     "text": [
      "Enter your choice between 1-5:  2\n"
     ]
    },
    {
     "name": "stdout",
     "output_type": "stream",
     "text": [
      "--------------------------------------------------\n"
     ]
    },
    {
     "name": "stdin",
     "output_type": "stream",
     "text": [
      "Enter Account Number   :  98765432101446\n",
      "Enter your 6-Digit Pin :  148543\n"
     ]
    },
    {
     "name": "stdout",
     "output_type": "stream",
     "text": [
      "**************************************************\n",
      "                 Account Details                  \n",
      "**************************************************\n",
      "Account Holder's Name:  Juhi Gupta\n",
      "Account Type         :  Savings\n",
      "Account Number       :  98765432101446\n",
      "Account Balance      :  9000.0\n",
      "**************************************************\n",
      "\n",
      "Menu Options: \n",
      "-------------\n",
      "\n",
      "    Press 1 for Opening an Account\n",
      "    Press 2 to View Account Details\n",
      "    Press 3 to withdraw/deposit/transfer\n",
      "    Press 4 to view transaction history\n",
      "    Press 5 to exit the program\n",
      "    \n",
      "--------------------------------------------------\n"
     ]
    },
    {
     "name": "stdin",
     "output_type": "stream",
     "text": [
      "Enter your choice between 1-5:  4\n"
     ]
    },
    {
     "name": "stdout",
     "output_type": "stream",
     "text": [
      "--------------------------------------------------\n"
     ]
    },
    {
     "name": "stdin",
     "output_type": "stream",
     "text": [
      "Enter Account Number   :  98765432101446\n",
      "Enter your 6-Digit Pin :  148543\n"
     ]
    },
    {
     "name": "stdout",
     "output_type": "stream",
     "text": [
      "----------------------------------------------------------------\n",
      "                      Transactions History                      \n",
      "----------------------------------------------------------------\n",
      "Date & Time            Amount       Type                Balance     \n",
      "----------------------------------------------------------------\n",
      "2025-01-17 18:51:57    1000.0       Transfer/Credited   9000.0      \n",
      "\n",
      "Menu Options: \n",
      "-------------\n",
      "\n",
      "    Press 1 for Opening an Account\n",
      "    Press 2 to View Account Details\n",
      "    Press 3 to withdraw/deposit/transfer\n",
      "    Press 4 to view transaction history\n",
      "    Press 5 to exit the program\n",
      "    \n",
      "--------------------------------------------------\n"
     ]
    },
    {
     "name": "stdin",
     "output_type": "stream",
     "text": [
      "Enter your choice between 1-5:  5\n"
     ]
    },
    {
     "name": "stdout",
     "output_type": "stream",
     "text": [
      "--------------------------------------------------\n",
      "****************************************************************\n",
      "            Thank you for banking with WsCube Bank!             \n",
      "****************************************************************\n"
     ]
    }
   ],
   "source": [
    "import pickle # For data serialization and deserialization\n",
    "import os # For file operations\n",
    "import random # For generating random account numbers and PINs\n",
    "import numpy as np # For potential numerical operations\n",
    "import datetime as dt # For timestamps in transactions\n",
    "\n",
    "# File paths for storing account and transaction data\n",
    "data_file = 'accounts_data.pkl' # File to store account details\n",
    "transactions_file = 'transactions_data.pkl' # File to store transaction history\n",
    "\n",
    "# Dictionaries to store account and transaction data in memory\n",
    "account_details = {} # Structure: {pancard: [name, account_type, balance, account_no, password]}\n",
    "details = [] # Temporary list to hold account details during creation\n",
    "transactions = {} # Structure: {pancard: {timestamp: [amount, type, balance]}}\n",
    "\n",
    "# Load existing data from files if they exist\n",
    "if os.path.exists(data_file):\n",
    "    with open(data_file, 'rb') as file:\n",
    "        account_details = pickle.load(file)\n",
    "\n",
    "if os.path.exists(transactions_file):\n",
    "    with open(transactions_file, 'rb') as file:\n",
    "        transactions = pickle.load(file)\n",
    "\n",
    "# Function to save account and transaction data to files\n",
    "def save_data():\n",
    "    with open(data_file, 'wb') as file:\n",
    "        pickle.dump(account_details, file)\n",
    "    with open(transactions_file, 'wb') as file:\n",
    "        pickle.dump(transactions, file)\n",
    "\n",
    "# Display welcome message\n",
    "print(\"*\"*50)\n",
    "text = \"Welcome to WsCube Bank\"\n",
    "padded_text = text.center(50)\n",
    "print(padded_text)\n",
    "print(\"*\"*50)\n",
    "\n",
    "# Main program loop\n",
    "while True:\n",
    "    # Display menu options\n",
    "    print(\"\\nMenu Options: \")\n",
    "    print(\"-\"*13)\n",
    "    print(\"\"\"\n",
    "    Press 1 for Opening an Account\n",
    "    Press 2 to View Account Details\n",
    "    Press 3 to withdraw/deposit/transfer\n",
    "    Press 4 to view transaction history\n",
    "    Press 5 to exit the program\n",
    "    \"\"\")\n",
    "    print(\"-\"*50)\n",
    "\n",
    "    # Get user choice and validate it\n",
    "    choice = input(\"Enter your choice between 1-5: \")\n",
    "\n",
    "    if not choice.isdigit() or int(choice) < 1 or int(choice) > 5:\n",
    "        print(\"Invalid input. Please enter a number between 1 and 5.\")\n",
    "        continue\n",
    "\n",
    "    choice = int(choice)\n",
    "    print(\"-\"*50)\n",
    "\n",
    "    # Option 1: Open an Account\n",
    "    if choice == 1:\n",
    "        pancard = input(\"Enter Your Pancard Number    : \")\n",
    "        name = input(\"Enter your name here         : \")\n",
    "        account_type = input(\"Account Type (Savings/Credit): \")\n",
    "        initial_deposit = float(input(\"Enter initial deposit        : \"))\n",
    "        account_no = \"9876543210\" + str(random.randint(1000, 9999))\n",
    "        password = str(random.randint(100000, 999999))\n",
    "    \n",
    "       # Generate unique account number and password\n",
    "        while account_no in [details[3] for details in account_details.values()]:\n",
    "            account_no = \"9876543210\" + str(random.randint(1000, 9999))\n",
    "    \n",
    "        # Store account details\n",
    "        details = [name, account_type, initial_deposit, account_no, password]\n",
    "        account_details[pancard] = details  # Store details for this pancard\n",
    "    \n",
    "        # Save data to file\n",
    "        save_data()\n",
    "\n",
    "        # Display account creation details\n",
    "        print(\"-\" * 50)\n",
    "        print(f\"Account Created Successfully!\")\n",
    "        print(\"*\" * 32)\n",
    "        print(f\"Account No     : {account_no}\")\n",
    "        print(f\"Pin Number     : {password}\")\n",
    "        print(f\"Name           : {name}\")       \n",
    "        print(f\"Account Type   : {account_type}\") \n",
    "        print(f\"Initial Balance: {initial_deposit}\")\n",
    "        print(\"*\" * 32)\n",
    "\n",
    "    # Option 2: View Account Details\n",
    "    elif choice == 2:  \n",
    "       # Get account number and password from the user\n",
    "        ask_account_number = input(\"Enter Account Number   : \")\n",
    "        ask_password = input(\"Enter your 6-Digit Pin : \")\n",
    "    \n",
    "        # Search for the account\n",
    "        account_found = None\n",
    "        for pancard, details in account_details.items():\n",
    "            if details[3] == ask_account_number and details[4] == ask_password:\n",
    "                account_found = details\n",
    "                break\n",
    "                \n",
    "        # Display account details if found\n",
    "        if account_found:            \n",
    "            print(\"*\" * 50)\n",
    "            text1 = \"Account Details\"\n",
    "            padded_text1 = text1.center(50)\n",
    "            print(padded_text1)\n",
    "            print(\"*\" * 50)\n",
    "            print(\"Account Holder's Name: \", account_found[0])\n",
    "            print(\"Account Type         : \", account_found[1])\n",
    "            print(\"Account Number       : \", account_found[3])\n",
    "            print(\"Account Balance      : \", account_found[2])\n",
    "            print(\"*\" * 50)\n",
    "        else:\n",
    "            print(\"Invalid account number or pin number.\")\n",
    "    \n",
    "    # Option 3: Withdraw/Deposit/Transfer\n",
    "    elif choice == 3:        \n",
    "        text2 = \"Withdraw - Deposit - Transfer\"\n",
    "        padded_text2 = text2.center(50)\n",
    "        print(padded_text2)\n",
    "        print(\"*\"*50)\n",
    "        \n",
    "        # Sub-menu for transaction types\n",
    "        print(\"\"\"\n",
    "        Press 1 to withdraw\n",
    "        Press 2 to deposit\n",
    "        Press 3 to transfer\n",
    "        \"\"\")\n",
    "        \n",
    "        print(\"-\"*50)\n",
    "    \n",
    "        # Get transaction choice and validate it\n",
    "        n_choice = input(\"Enter your choice between 1-3: \")    \n",
    "        \n",
    "        if not n_choice.isdigit() or int(n_choice) < 1 or int(n_choice) > 3:\n",
    "            print(\"Enter a valid option.\")\n",
    "            continue    \n",
    "        \n",
    "        n_choice = int(n_choice)\n",
    "        print(\"-\"*50)\n",
    "                            \n",
    "        # Handle each transaction type\n",
    "        if n_choice == 1: # Withdraw\n",
    "            # Prompt the user to enter their account number and pin\n",
    "            ask_account_number = input(\"Enter Account Number              : \")\n",
    "            ask_password = input(\"Enter your 6-Digit Pin            : \")\n",
    "                                \n",
    "            # Initialize a variable to store the account found status\n",
    "            account_found = None\n",
    "\n",
    "            # Loop through the account details to find the matching account number and pin\n",
    "            for pancard, details in account_details.items():\n",
    "                if details[3] == ask_account_number and details[4] == ask_password:\n",
    "                    account_found = pancard  \n",
    "                    break # Exit the loop once account is found\n",
    "\n",
    "            # Check if a valid account was found based on the provided details\n",
    "            if account_found: \n",
    "                # Prompt the user to enter the withdrawal amount\n",
    "                withdraw_amount = float(input(\"Enter amount you wish to withdraw : \"))\n",
    "        \n",
    "                # Check if the user has enough balance to make the withdrawal\n",
    "                if withdraw_amount > account_details[account_found][2]:\n",
    "                    # Inform the user if the balance is insufficient\n",
    "                    print(\"Sorry! Insufficient Balance\")\n",
    "                else:\n",
    "                    # Deduct the withdrawal amount from the account balance\n",
    "                    account_details[account_found][2] -= withdraw_amount\n",
    "                    # Get the current timestamp for transaction record\n",
    "                    timestamp = dt.datetime.now()\n",
    "                    ts = timestamp.strftime(\"%Y-%m-%d %H:%M:%S\")\n",
    "                    # Prepare transaction data (withdrawal amount, transaction type, remaining balance)\n",
    "                    t_data = [withdraw_amount, \"Debited\", account_details[account_found][2]]\n",
    "        \n",
    "                    # Check if the account already has a transaction record; if not, initialize it\n",
    "                    if account_found not in transactions:\n",
    "                        transactions[account_found] = {}\n",
    "\n",
    "                    # Add the transaction data with the timestamp as key\n",
    "                    transactions[account_found][ts] = t_data\n",
    "        \n",
    "                    # Save updated data (e.g., balance, transaction history) to the system/database\n",
    "                    save_data()\n",
    "                    # Provide feedback to the user on successful withdrawal and show remaining balance\n",
    "                    print(\"-\" * 50)\n",
    "                    print(f\"Withdrawal Successful! Remaining Balance: {account_details[account_found][2]}\")\n",
    "                    print(\"-\" * 50)\n",
    "                    print(\"Transaction Details:\")\n",
    "                    print(\"-\" * 33)\n",
    "                    print(f\"Date & Time : {ts}\")\n",
    "                    print(f\"Amount      : {withdraw_amount}\")\n",
    "                    print(f\"Status      : Debited\")\n",
    "                    print(f\"Balance     : {account_details[account_found][2]}\")\n",
    "            else:\n",
    "                # If no valid account is found, inform the user\n",
    "                print(\"Invalid account number or pin.\")\n",
    "        \n",
    "        elif n_choice == 2: # Deposit\n",
    "            # Prompt the user to enter their account number and pin\n",
    "            ask_account_number = input(\"Enter Account Number              : \")\n",
    "            ask_password = input(\"Enter your 6-Digit Pin            : \")\n",
    "        \n",
    "            # Initialize a variable to store the account found status\n",
    "            account_found = None\n",
    "            # Loop through the account details to find the matching account number and pin\n",
    "            for pancard, details in account_details.items():\n",
    "                # Compare the account number and pin with the user's input\n",
    "                if details[3] == ask_account_number and details[4] == ask_password:\n",
    "                    # If a match is found, store the PAN card (account identifier) and exit the loop\n",
    "                    account_found = pancard \n",
    "                    break # Exit the loop once account is found\n",
    "                    \n",
    "            # Check if a valid account was found based on the provided details\n",
    "            if account_found: \n",
    "                # Prompt the user to enter the deposit amount\n",
    "                deposit_amount = float(input(\"Enter amount you wish to deposit  : \"))\n",
    "                                            \n",
    "                # Add the deposit amount to the current balance of the account\n",
    "                account_details[account_found][2] += deposit_amount\n",
    "                # Get the current timestamp for the transaction record\n",
    "                timestamp = dt.datetime.now()\n",
    "                ts = timestamp.strftime(\"%Y-%m-%d %H:%M:%S\") # Format timestamp as string\n",
    "                # Prepare transaction data (deposit amount, transaction type, updated balance)\n",
    "                t_data = [deposit_amount, \"Credited\", account_details[account_found][2]]\n",
    "        \n",
    "               # Check if the account already has a transaction record; if not, initialize it\n",
    "                if account_found not in transactions:\n",
    "                    transactions[account_found] = {}\n",
    "                # Add the transaction data with the timestamp as key\n",
    "                transactions[account_found][ts] = t_data\n",
    "        \n",
    "                # Save updated data (e.g., balance, transaction history) to the system/database\n",
    "                save_data()\n",
    "\n",
    "                # Provide feedback to the user on successful deposit and show new balance\n",
    "                print(\"-\" * 50)\n",
    "                print(f\"Deposit Successful! New Balance: {account_details[account_found][2]}\")\n",
    "                print(\"-\" * 50)\n",
    "                print(\"Transaction Details:\")\n",
    "                print(\"-\" * 33)\n",
    "                print(f\"Date & Time : {ts}\")\n",
    "                print(f\"Amount      : {deposit_amount}\")\n",
    "                print(f\"Status      : Credited\")\n",
    "                print(f\"Balance     : {account_details[account_found][2]}\")\n",
    "            else:\n",
    "                # If no valid account is found, inform the user\n",
    "                print(\"Invalid account number or pin.\")\n",
    "                    \n",
    "        else: # Transfer\n",
    "            # Prompt the user to enter their account number and pin\n",
    "            ask_account_number = input(\"Enter Your Account Number          : \")\n",
    "            ask_password = input(\"Enter Your 6-Digit Pin             : \")\n",
    "        \n",
    "            # Initialize a variable to store the sender account found status\n",
    "            sender_account_found = None\n",
    "            # Loop through the account details to find the matching sender account number and pin\n",
    "            for pancard, details in account_details.items():\n",
    "                # Compare the account number and pin with the user's input\n",
    "                if details[3] == ask_account_number and details[4] == ask_password:\n",
    "                    # If a match is found, store the PAN card (account identifier) and exit the loop\n",
    "                    sender_account_found = pancard \n",
    "                    break # Exit the loop once the sender account is found\n",
    "\n",
    "            # Check if a valid sender account was found based on the provided details\n",
    "            if sender_account_found: \n",
    "                # Prompt the user to enter the recipient's account number and transfer amount\n",
    "                recipient_account_no = input(\"Enter Recipient's Account Number  : \")\n",
    "                transfer_amount = float(input(\"Enter amount you wish to transfer : \"))\n",
    "        \n",
    "                # Initialize a variable to store the recipient account found status\n",
    "                recipient_account_found = None\n",
    "                # Loop through the account details to find the matching recipient account number\n",
    "                for pancard, details in account_details.items():\n",
    "                    # If a match is found, store the PAN card (account identifier) for the recipient\n",
    "                    if details[3] == recipient_account_no:\n",
    "                        recipient_account_found = pancard\n",
    "                        break # Exit the loop once the recipient account is found\n",
    "                # Check if the recipient account was found\n",
    "                if recipient_account_found:  \n",
    "                    # Check if the sender has sufficient balance to make the transfer\n",
    "                    if transfer_amount > account_details[sender_account_found][2]:\n",
    "                        # Inform the user if there is insufficient balance\n",
    "                        print(\"Sorry! Insufficient Balance\")\n",
    "                    else:\n",
    "                        # Deduct the transfer amount from the sender's account balance\n",
    "                        account_details[sender_account_found][2] -= transfer_amount\n",
    "                        # Add the transfer amount to the recipient's account balance\n",
    "                        account_details[recipient_account_found][2] += transfer_amount\n",
    "                        \n",
    "                        # Get the current timestamp for transaction records\n",
    "                        timestamp = dt.datetime.now()\n",
    "                        ts = timestamp.strftime(\"%Y-%m-%d %H:%M:%S\")\n",
    "                        # Prepare transaction data for the sender (amount, transaction type, updated balance)\n",
    "                        sender_t_data = [transfer_amount, \"Transfer/Debited\", account_details[sender_account_found][2]]\n",
    "                        \n",
    "                        # Check if the sender already has a transaction record; if not, initialize it\n",
    "                        if sender_account_found not in transactions:\n",
    "                            transactions[sender_account_found] = {}\n",
    "                        # Add the transaction data with the timestamp as key for the sender\n",
    "                        transactions[sender_account_found][ts] = sender_t_data\n",
    "        \n",
    "                        # Prepare transaction data for the recipient (amount, transaction type, updated balance)\n",
    "                        recipient_t_data = [transfer_amount, \"Transfer/Credited\", account_details[recipient_account_found][2]]\n",
    "                        # Check if the recipient already has a transaction record; if not, initialize it\n",
    "                        if recipient_account_found not in transactions:\n",
    "                            transactions[recipient_account_found] = {}\n",
    "                        # Add the transaction data with the timestamp as key for the recipient\n",
    "                        transactions[recipient_account_found][ts] = recipient_t_data\n",
    "        \n",
    "                        # Save updated data (e.g., balance, transaction history) to the system/database\n",
    "                        save_data()\n",
    "                        \n",
    "                        # Provide feedback to the user on successful transfer and show new balance for the sender\n",
    "                        print(\"-\" * 50)\n",
    "                        print(f\"Transfer Successful! New Balance: {account_details[account_found][2]}\")\n",
    "                        print(\"-\" * 50)\n",
    "                        print(\"Transaction Details (Sender):\")\n",
    "                        print(\"-\" * 33)\n",
    "                        print(f\"Date & Time : {ts}\")\n",
    "                        print(f\"Transfer To : {recipient_account_no}\")\n",
    "                        print(f\"Amount      : {transfer_amount}\")\n",
    "                        print(f\"Status      : Transfer/Debited\")\n",
    "                        print(f\"Balance     : {account_details[sender_account_found][2]}\")\n",
    "                else:\n",
    "                    # If the recipient's account number is not found, inform the user\n",
    "                    print(\"Recipient's Account Number not found.\")\n",
    "            else:\n",
    "                # If no valid sender account is found, inform the user\n",
    "                print(\"Invalid account number or pin.\")\n",
    "                \n",
    "    # Option 4: View Transaction History\n",
    "    elif choice == 4:\n",
    "        ask_account_number = input(\"Enter Account Number   : \")\n",
    "        ask_password = input(\"Enter your 6-Digit Pin : \")\n",
    "    \n",
    "        # Search for the account\n",
    "        account_found = None\n",
    "        for pancard, details in account_details.items():\n",
    "            if details[3] == ask_account_number and details[4] == ask_password:\n",
    "                account_found = pancard \n",
    "                break\n",
    "    \n",
    "        if account_found: \n",
    "            print(\"-\" * 64)\n",
    "            text4 = \"Transactions History\"\n",
    "            padded_text4 = text4.center(64)\n",
    "            print(padded_text4)\n",
    "            print(\"-\" * 64)\n",
    "            print(\"{:<22} {:<12} {:<19} {:<12}\".format(\"Date & Time\", \"Amount\", \"Type\", \"Balance\"))\n",
    "            print(\"-\" * 64)\n",
    "    \n",
    "            # Display transaction history\n",
    "            if account_found in transactions:\n",
    "                for timestamp, transaction_details in transactions[account_found].items():\n",
    "                    print(\"{:<22} {:<12} {:<19} {:<12}\".format(\n",
    "                        timestamp, transaction_details[0], transaction_details[1], transaction_details[2]\n",
    "                    ))\n",
    "            else:\n",
    "                print(\"No transactions found for this account.\")\n",
    "        else:\n",
    "            print(\"Invalid account number or pin.\")\n",
    "     # Option 5: Exit Program            \n",
    "    elif choice == 5:\n",
    "        print(\"*\"*64)\n",
    "        text5 = \"Thank you for banking with WsCube Bank!\"\n",
    "        padded_text5 = text5.center(64)\n",
    "        print(padded_text5)\n",
    "        print(\"*\"*64)\n",
    "        break"
   ]
  },
  {
   "cell_type": "code",
   "execution_count": null,
   "id": "69a1f475-a770-4d5b-a839-ea15d7978169",
   "metadata": {},
   "outputs": [],
   "source": []
  }
 ],
 "metadata": {
  "kernelspec": {
   "display_name": "Python 3 (ipykernel)",
   "language": "python",
   "name": "python3"
  },
  "language_info": {
   "codemirror_mode": {
    "name": "ipython",
    "version": 3
   },
   "file_extension": ".py",
   "mimetype": "text/x-python",
   "name": "python",
   "nbconvert_exporter": "python",
   "pygments_lexer": "ipython3",
   "version": "3.13.1"
  }
 },
 "nbformat": 4,
 "nbformat_minor": 5
}
